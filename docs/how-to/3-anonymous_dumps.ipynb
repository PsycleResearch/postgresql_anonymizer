{
 "cells": [
  {
   "cell_type": "markdown",
   "metadata": {},
   "source": [
    "# 3- Anonymous Dumps\n",
    "\n",
    "\n",
    "> In many situation, what we want is simply to export the anonymized data into another database \n",
    "> (for testing or to produce statistics). This is what **pg_dump_anon** does !\n",
    "\n",
    "## The Story\n",
    "\n",
    "Paul has a website and a comment section where customers can express their views. \n",
    "\n",
    "He hired a web agency to develop a new design for his website. The agency asked for a SQL export (dump) of the current website database. Paul wants to \"clean\" the database export and remove any personnal information contained in the comment section.\n",
    "\n",
    "## How it works\n",
    "\n",
    "![](img/anon_dump.png)"
   ]
  },
  {
   "cell_type": "markdown",
   "metadata": {},
   "source": [
    "## Learning Objective\n",
    "\n",
    "* Extract the anonymized data from the database\n",
    "* Write a custom masking function to handle a JSON field.\n",
    "\n",
    "\n",
    "## Load the data "
   ]
  },
  {
   "cell_type": "code",
   "execution_count": 2,
   "metadata": {},
   "outputs": [],
   "source": [
    "%reload_ext sql\n",
    "%sql postgresql://paul@localhost/boutique\n",
    "%config SqlMagic.feedback = False\n",
    "%config SqlMagic.displaycon = False"
   ]
  },
  {
   "cell_type": "code",
   "execution_count": 3,
   "metadata": {},
   "outputs": [],
   "source": [
    "%%capture\n",
    "%%sql\n",
    "DROP TABLE IF EXISTS website_comment CASCADE;\n",
    "CREATE TABLE website_comment (\n",
    "  id SERIAL PRIMARY KEY,\n",
    "  message JSONB\n",
    ");"
   ]
  },
  {
   "cell_type": "markdown",
   "metadata": {},
   "source": [
    "---\n",
    "\n",
    "Insert some comments"
   ]
  },
  {
   "cell_type": "code",
   "execution_count": 4,
   "metadata": {},
   "outputs": [
    {
     "name": "stdout",
     "output_type": "stream",
     "text": [
      "1\t{\"meta\": {\"name\": \"Lee Perry\", \"ip_addr\": \"40.87.29.113\"}, \"content\": \"Hello Nasty!\"}\n",
      "2\t{\"meta\": {\"name\": \"\", \"email\": \"biz@bizmarkie.com\"}, \"content\": \"Great Shop\"}\n",
      "3\t{\"meta\": {\"name\": \"Jimmy\"}, \"content\": \"Hi ! This is me, Jimmy James \"}\n"
     ]
    }
   ],
   "source": [
    "%%bash\n",
    "curl -Ls https://dali.bo/website_comment -o /tmp/website_comment.tsv\n",
    "head /tmp/website_comment.tsv"
   ]
  },
  {
   "cell_type": "code",
   "execution_count": 5,
   "metadata": {},
   "outputs": [],
   "source": [
    "%%capture \n",
    "%%bash\n",
    "export PGHOST=localhost\n",
    "export PGUSER=paul\n",
    "export PGDATABASE=boutique\n",
    "psql -c \"\\copy website_comment from '/tmp/website_comment.tsv'\""
   ]
  },
  {
   "cell_type": "code",
   "execution_count": 6,
   "metadata": {},
   "outputs": [
    {
     "data": {
      "text/html": [
       "<table>\n",
       "    <tr>\n",
       "        <th>jsonb_pretty</th>\n",
       "    </tr>\n",
       "    <tr>\n",
       "        <td>{<br>    &quot;meta&quot;: {<br>        &quot;name&quot;: &quot;Lee Perry&quot;,<br>        &quot;ip_addr&quot;: &quot;40.87.29.113&quot;<br>    },<br>    &quot;content&quot;: &quot;Hello Nasty!&quot;<br>}</td>\n",
       "    </tr>\n",
       "</table>"
      ],
      "text/plain": [
       "[('{\\n    \"meta\": {\\n        \"name\": \"Lee Perry\",\\n        \"ip_addr\": \"40.87.29.113\"\\n    },\\n    \"content\": \"Hello Nasty!\"\\n}',)]"
      ]
     },
     "execution_count": 6,
     "metadata": {},
     "output_type": "execute_result"
    }
   ],
   "source": [
    "%%sql\n",
    "SELECT jsonb_pretty(message)\n",
    "FROM website_comment\n",
    "ORDER BY id ASC\n",
    "LIMIT 1;"
   ]
  },
  {
   "cell_type": "markdown",
   "metadata": {},
   "source": [
    "## Activate the extension"
   ]
  },
  {
   "cell_type": "code",
   "execution_count": 24,
   "metadata": {},
   "outputs": [],
   "source": [
    "%%capture\n",
    "%%sql\n",
    "CREATE EXTENSION IF NOT EXISTS anon CASCADE;\n",
    "SELECT anon.init();\n",
    "SELECT setseed(0); "
   ]
  },
  {
   "cell_type": "markdown",
   "metadata": {},
   "source": [
    "## Masking a JSON column\n",
    "\n",
    "The \"comment\" field is filled with personal information and the fact the field does not have a standard schema makes our tasks harder. \n",
    "\n",
    "**In general, unstructured data are difficult to mask**.\n",
    "\n",
    "As we can see, web visitors can write any kind of information in the comment section. Our best option is to remove this key entirely because there's no way to extract personnal data properly. \n",
    "\n"
   ]
  },
  {
   "cell_type": "markdown",
   "metadata": {},
   "source": [
    "---\n",
    "\n",
    "We can _clean_ the comment column simply by removing for the \"content\" key !"
   ]
  },
  {
   "cell_type": "code",
   "execution_count": 25,
   "metadata": {},
   "outputs": [
    {
     "data": {
      "text/html": [
       "<table>\n",
       "    <tr>\n",
       "        <th>?column?</th>\n",
       "    </tr>\n",
       "    <tr>\n",
       "        <td>{&#x27;meta&#x27;: {&#x27;name&#x27;: &#x27;Lee Perry&#x27;, &#x27;ip_addr&#x27;: &#x27;40.87.29.113&#x27;}}</td>\n",
       "    </tr>\n",
       "</table>"
      ],
      "text/plain": [
       "[({'meta': {'name': 'Lee Perry', 'ip_addr': '40.87.29.113'}},)]"
      ]
     },
     "execution_count": 25,
     "metadata": {},
     "output_type": "execute_result"
    }
   ],
   "source": [
    "%%sql\n",
    "SELECT message - ARRAY['content'] \n",
    "FROM website_comment \n",
    "WHERE id=1; "
   ]
  },
  {
   "cell_type": "markdown",
   "metadata": {},
   "source": [
    "\n",
    "---\n",
    "\n",
    "First let's create a dedicated schema and declare it as trusted. This means the \"anon\" extension will accept the functions located in this schema as valid masking functions. Only a superuser should be able to add functions in this schema.\n"
   ]
  },
  {
   "cell_type": "code",
   "execution_count": 26,
   "metadata": {},
   "outputs": [],
   "source": [
    "%%capture\n",
    "%%sql\n",
    "CREATE SCHEMA IF NOT EXISTS my_masks;\n",
    "SECURITY LABEL FOR anon ON SCHEMA my_masks IS 'TRUSTED';"
   ]
  },
  {
   "cell_type": "markdown",
   "metadata": {},
   "source": [
    "\n",
    "---\n",
    "\n",
    "Now we can write a function that remove the message content:"
   ]
  },
  {
   "cell_type": "code",
   "execution_count": 27,
   "metadata": {},
   "outputs": [],
   "source": [
    "%%capture\n",
    "%%sql\n",
    "CREATE OR REPLACE FUNCTION my_masks.remove_content(j JSONB)\n",
    "RETURNS JSONB\n",
    "AS $func$\n",
    "  SELECT j - ARRAY['content']\n",
    "$func$\n",
    "LANGUAGE SQL\n",
    ";"
   ]
  },
  {
   "cell_type": "markdown",
   "metadata": {},
   "source": [
    "---\n",
    "\n",
    "Let's try it !"
   ]
  },
  {
   "cell_type": "code",
   "execution_count": 28,
   "metadata": {},
   "outputs": [
    {
     "data": {
      "text/html": [
       "<table>\n",
       "    <tr>\n",
       "        <th>remove_content</th>\n",
       "    </tr>\n",
       "    <tr>\n",
       "        <td>{&#x27;meta&#x27;: {&#x27;name&#x27;: &#x27;Lee Perry&#x27;, &#x27;ip_addr&#x27;: &#x27;40.87.29.113&#x27;}}</td>\n",
       "    </tr>\n",
       "    <tr>\n",
       "        <td>{&#x27;meta&#x27;: {&#x27;name&#x27;: &#x27;&#x27;, &#x27;email&#x27;: &#x27;biz@bizmarkie.com&#x27;}}</td>\n",
       "    </tr>\n",
       "    <tr>\n",
       "        <td>{&#x27;meta&#x27;: {&#x27;name&#x27;: &#x27;Jimmy&#x27;}}</td>\n",
       "    </tr>\n",
       "</table>"
      ],
      "text/plain": [
       "[({'meta': {'name': 'Lee Perry', 'ip_addr': '40.87.29.113'}},),\n",
       " ({'meta': {'name': '', 'email': 'biz@bizmarkie.com'}},),\n",
       " ({'meta': {'name': 'Jimmy'}},)]"
      ]
     },
     "execution_count": 28,
     "metadata": {},
     "output_type": "execute_result"
    }
   ],
   "source": [
    "%%sql\n",
    "SELECT my_masks.remove_content(message) \n",
    "FROM website_comment"
   ]
  },
  {
   "cell_type": "markdown",
   "metadata": {},
   "source": [
    "---\n",
    "\n",
    "And now we can use it in a masking rule"
   ]
  },
  {
   "cell_type": "code",
   "execution_count": 29,
   "metadata": {},
   "outputs": [],
   "source": [
    "%%capture\n",
    "%%sql\n",
    "SECURITY LABEL FOR anon ON COLUMN website_comment.message\n",
    "IS 'MASKED WITH FUNCTION my_masks.remove_content(message)';"
   ]
  },
  {
   "cell_type": "markdown",
   "metadata": {},
   "source": [
    "---\n",
    "\n",
    "Finally we can export an **anonymous dump** of the table with `pg_dump_anon`"
   ]
  },
  {
   "cell_type": "code",
   "execution_count": 30,
   "metadata": {},
   "outputs": [],
   "source": [
    "%%capture\n",
    "%%bash\n",
    "export PATH=$PATH:$(pg_config --bindir)\n",
    "pg_dump_anon --help"
   ]
  },
  {
   "cell_type": "code",
   "execution_count": 31,
   "metadata": {},
   "outputs": [],
   "source": [
    "%%capture\n",
    "%%bash\n",
    "export PATH=$PATH:$(pg_config --bindir)\n",
    "export PGHOST=localhost\n",
    "export PGUSER=paul\n",
    "pg_dump_anon boutique --table=website_comment > /tmp/dump.sql"
   ]
  },
  {
   "cell_type": "markdown",
   "metadata": {},
   "source": [
    "## Exercices\n",
    "\n",
    "\n",
    "### E301 - Dump the anonymized data into a new database\n",
    "\n",
    "Create a database named \"boutique_anon\" and transfer the entire database into it.\n",
    "\n",
    "### E302 - Pseudonymize the meta fields of the comments\n",
    "\n",
    "Pierre plans to extract general information from the metadata. For instance, he wants to calculate the number of unique visitors based on the different IP adresses. But an IP adress is an **indirect identifier**, so Paul needs to anonymize this field while maintaining the fact that some values appear multiple times. \n",
    "\n",
    "Replace the `remove_content` function with a better one called `clean_comment` that will:\n",
    "\n",
    "- Remove the content key\n",
    "- Replace the \"name\" value with a fake last name\n",
    "- Replace the \"ip_address\" value with its md5 signature \n",
    "- Nullify the \"email\" key\n",
    "\n",
    "> HINT: Look at the `jsonb_set()` and `jsonb_build_object()` functions\n"
   ]
  },
  {
   "cell_type": "markdown",
   "metadata": {},
   "source": [
    "## Solutions\n",
    "\n",
    "### S301"
   ]
  },
  {
   "cell_type": "code",
   "execution_count": 32,
   "metadata": {},
   "outputs": [],
   "source": [
    "%%capture\n",
    "%%bash\n",
    "export PATH=$PATH:$(pg_config --bindir)\n",
    "export PGHOST=localhost\n",
    "export PGUSER=paul\n",
    "dropdb --if-exists boutique_anon\n",
    "createdb boutique_anon --owner paul\n",
    "pg_dump_anon boutique | psql --quiet boutique_anon "
   ]
  },
  {
   "cell_type": "code",
   "execution_count": 33,
   "metadata": {},
   "outputs": [
    {
     "name": "stdout",
     "output_type": "stream",
     "text": [
      " count \n",
      "-------\n",
      "     3\n",
      "(1 row)\n",
      "\n"
     ]
    }
   ],
   "source": [
    "%%bash\n",
    "export PGHOST=localhost\n",
    "export PGUSER=paul\n",
    "psql boutique_anon -c 'SELECT COUNT(*) FROM company'"
   ]
  },
  {
   "cell_type": "markdown",
   "metadata": {},
   "source": [
    "### S302"
   ]
  },
  {
   "cell_type": "code",
   "execution_count": 34,
   "metadata": {},
   "outputs": [],
   "source": [
    "%%capture \n",
    "%%sql\n",
    "CREATE OR REPLACE FUNCTION my_masks.clean_comment(message JSONB)\n",
    "RETURNS JSONB\n",
    "VOLATILE\n",
    "LANGUAGE SQL\n",
    "AS $func$\n",
    "SELECT \n",
    "  jsonb_set(\n",
    "    message,\n",
    "    ARRAY['meta'],\n",
    "    jsonb_build_object(\n",
    "        'name',anon.fake_last_name(), \n",
    "        'ip_address', md5((message->'meta'->'ip_addr')::TEXT), \n",
    "        'email', NULL\n",
    "    )\n",
    "  ) - ARRAY['content'];  \n",
    "$func$;"
   ]
  },
  {
   "cell_type": "code",
   "execution_count": 35,
   "metadata": {},
   "outputs": [
    {
     "data": {
      "text/html": [
       "<table>\n",
       "    <tr>\n",
       "        <th>clean_comment</th>\n",
       "    </tr>\n",
       "    <tr>\n",
       "        <td>{&#x27;meta&#x27;: {&#x27;name&#x27;: &#x27;Sonkin&#x27;, &#x27;email&#x27;: None, &#x27;ip_address&#x27;: &#x27;1d8cbcdef988d55982af1536922ddcd1&#x27;}}</td>\n",
       "    </tr>\n",
       "    <tr>\n",
       "        <td>{&#x27;meta&#x27;: {&#x27;name&#x27;: &#x27;Hibshman&#x27;, &#x27;email&#x27;: None, &#x27;ip_address&#x27;: None}}</td>\n",
       "    </tr>\n",
       "    <tr>\n",
       "        <td>{&#x27;meta&#x27;: {&#x27;name&#x27;: &#x27;Sauberan&#x27;, &#x27;email&#x27;: None, &#x27;ip_address&#x27;: None}}</td>\n",
       "    </tr>\n",
       "</table>"
      ],
      "text/plain": [
       "[({'meta': {'name': 'Sonkin', 'email': None, 'ip_address': '1d8cbcdef988d55982af1536922ddcd1'}},),\n",
       " ({'meta': {'name': 'Hibshman', 'email': None, 'ip_address': None}},),\n",
       " ({'meta': {'name': 'Sauberan', 'email': None, 'ip_address': None}},)]"
      ]
     },
     "execution_count": 35,
     "metadata": {},
     "output_type": "execute_result"
    }
   ],
   "source": [
    "%%sql\n",
    "SELECT my_masks.clean_comment(message) \n",
    "FROM website_comment;"
   ]
  },
  {
   "cell_type": "code",
   "execution_count": 36,
   "metadata": {},
   "outputs": [],
   "source": [
    "%%capture\n",
    "%%sql\n",
    "SECURITY LABEL FOR anon ON COLUMN website_comment.message\n",
    "IS 'MASKED WITH FUNCTION my_masks.clean_comment(message)';"
   ]
  },
  {
   "cell_type": "code",
   "execution_count": null,
   "metadata": {},
   "outputs": [],
   "source": []
  },
  {
   "cell_type": "code",
   "execution_count": null,
   "metadata": {},
   "outputs": [],
   "source": []
  }
 ],
 "metadata": {
  "kernelspec": {
   "display_name": "Python 3",
   "language": "python",
   "name": "python3"
  },
  "language_info": {
   "codemirror_mode": {
    "name": "ipython",
    "version": 3
   },
   "file_extension": ".py",
   "mimetype": "text/x-python",
   "name": "python",
   "nbconvert_exporter": "python",
   "pygments_lexer": "ipython3",
   "version": "3.8.10"
  },
  "toc-autonumbering": false,
  "toc-showmarkdowntxt": true
 },
 "nbformat": 4,
 "nbformat_minor": 4
}
