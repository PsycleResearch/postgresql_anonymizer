{
 "cells": [
  {
   "cell_type": "markdown",
   "metadata": {},
   "source": [
    "# 1 - Static Masking\n",
    "\n",
    "> Static Masking is the simplest way to hide personal information ! \n",
    "> This idea is simply to destroy the original data or replace it with an artificial one.\n",
    "\n",
    "## The story\n",
    "\n",
    "Over the years, Paul has collected data about his customers and their purchases in a simple database. He recently installed a brand new sales application and the old database is now obsolete. He wants to save it and he would like to remove all personal information before archiving it.\n",
    "\n",
    "\n",
    "## How it works\n",
    "\n",
    "![](img/anon_static.png)\n",
    "\n",
    "## Learning Objective\n",
    "\n",
    "In this section, we will learn:\n",
    "\n",
    "* How to write simple masking rules\n",
    "* The advantage and limitations of static masking\n",
    "* The concept of \"Singling Out\" a person\n"
   ]
  },
  {
   "cell_type": "code",
   "execution_count": 1,
   "metadata": {},
   "outputs": [],
   "source": [
    "%reload_ext sql\n",
    "%sql postgresql://paul@localhost/boutique\n",
    "%config SqlMagic.feedback = False\n",
    "%config SqlMagic.displaycon = False"
   ]
  },
  {
   "cell_type": "markdown",
   "metadata": {},
   "source": [
    "## The \"customer\" table\n",
    "\n"
   ]
  },
  {
   "cell_type": "code",
   "execution_count": 2,
   "metadata": {},
   "outputs": [],
   "source": [
    "%%capture\n",
    "%%sql\n",
    "DROP TABLE IF EXISTS customer CASCADE;\n",
    "DROP TABLE IF EXISTS payout CASCADE;\n",
    "\n",
    "CREATE TABLE customer (\n",
    "    id SERIAL PRIMARY KEY,\n",
    "    firstname TEXT, \n",
    "    lastname TEXT, \n",
    "    phone TEXT,\n",
    "    birth DATE,\n",
    "    postcode TEXT\n",
    ");"
   ]
  },
  {
   "cell_type": "markdown",
   "metadata": {},
   "source": [
    "Insert a few persons: "
   ]
  },
  {
   "cell_type": "code",
   "execution_count": 3,
   "metadata": {},
   "outputs": [],
   "source": [
    "%%capture\n",
    "%%sql\n",
    "INSERT INTO customer \n",
    "VALUES \n",
    "(107,'Sarah','Conor','060-911-0911', '1965-10-10', '90016'),\n",
    "(258,'Luke', 'Skywalker', NULL, '1951-09-25', '90120'),\n",
    "(341,'Don', 'Draper','347-515-3423', '1926-06-01', '04520')\n",
    ";"
   ]
  },
  {
   "cell_type": "code",
   "execution_count": 4,
   "metadata": {},
   "outputs": [
    {
     "data": {
      "text/html": [
       "<table>\n",
       "    <tr>\n",
       "        <th>id</th>\n",
       "        <th>firstname</th>\n",
       "        <th>lastname</th>\n",
       "        <th>phone</th>\n",
       "        <th>birth</th>\n",
       "        <th>postcode</th>\n",
       "    </tr>\n",
       "    <tr>\n",
       "        <td>107</td>\n",
       "        <td>Sarah</td>\n",
       "        <td>Conor</td>\n",
       "        <td>060-911-0911</td>\n",
       "        <td>1965-10-10</td>\n",
       "        <td>90016</td>\n",
       "    </tr>\n",
       "    <tr>\n",
       "        <td>258</td>\n",
       "        <td>Luke</td>\n",
       "        <td>Skywalker</td>\n",
       "        <td>None</td>\n",
       "        <td>1951-09-25</td>\n",
       "        <td>90120</td>\n",
       "    </tr>\n",
       "    <tr>\n",
       "        <td>341</td>\n",
       "        <td>Don</td>\n",
       "        <td>Draper</td>\n",
       "        <td>347-515-3423</td>\n",
       "        <td>1926-06-01</td>\n",
       "        <td>04520</td>\n",
       "    </tr>\n",
       "</table>"
      ],
      "text/plain": [
       "[(107, 'Sarah', 'Conor', '060-911-0911', datetime.date(1965, 10, 10), '90016'),\n",
       " (258, 'Luke', 'Skywalker', None, datetime.date(1951, 9, 25), '90120'),\n",
       " (341, 'Don', 'Draper', '347-515-3423', datetime.date(1926, 6, 1), '04520')]"
      ]
     },
     "execution_count": 4,
     "metadata": {},
     "output_type": "execute_result"
    }
   ],
   "source": [
    "%%sql \n",
    "SELECT * FROM customer;"
   ]
  },
  {
   "cell_type": "markdown",
   "metadata": {},
   "source": [
    "## The \"payout\" table\n",
    "\n",
    "Sales are tracked in a simple table"
   ]
  },
  {
   "cell_type": "code",
   "execution_count": 5,
   "metadata": {},
   "outputs": [],
   "source": [
    "%%capture\n",
    "%%sql\n",
    "\n",
    "CREATE TABLE payout (\n",
    "    id SERIAL PRIMARY KEY,\n",
    "    fk_customer_id INT REFERENCES customer(id),\n",
    "    order_date DATE,\n",
    "    payment_date DATE,\n",
    "    amount INT\n",
    ");"
   ]
  },
  {
   "cell_type": "markdown",
   "metadata": {},
   "source": [
    "Let's add some orders"
   ]
  },
  {
   "cell_type": "code",
   "execution_count": 6,
   "metadata": {},
   "outputs": [],
   "source": [
    "%%capture\n",
    "%%sql \n",
    "INSERT INTO payout \n",
    "VALUES \n",
    "(1,107,'2021-10-01','2021-10-01', '7'),\n",
    "(2,258,'2021-10-02','2021-10-03', '20'),\n",
    "(3,341,'2021-10-02','2021-10-02', '543'),\n",
    "(4,258,'2021-10-05','2021-10-05', '12'),\n",
    "(5,258,'2021-10-06','2021-10-06', '92')\n",
    ";"
   ]
  },
  {
   "cell_type": "code",
   "execution_count": null,
   "metadata": {},
   "outputs": [],
   "source": []
  },
  {
   "cell_type": "markdown",
   "metadata": {},
   "source": [
    "## Activate the extension\n"
   ]
  },
  {
   "cell_type": "code",
   "execution_count": 29,
   "metadata": {},
   "outputs": [],
   "source": [
    "%%capture\n",
    "%%sql\n",
    "CREATE EXTENSION IF NOT EXISTS anon CASCADE;\n",
    "SELECT anon.init();\n",
    "SELECT setseed(0);"
   ]
  },
  {
   "cell_type": "markdown",
   "metadata": {},
   "source": [
    "## Declare the masking rules \n",
    "\n",
    "Paul wants to hide the last name and the phone numbers of his clients. \n",
    "He will use the `fake_last_name()` and `partial()` function for that"
   ]
  },
  {
   "cell_type": "code",
   "execution_count": 30,
   "metadata": {},
   "outputs": [],
   "source": [
    "%%capture\n",
    "%%sql\n",
    "SECURITY LABEL FOR anon ON COLUMN customer.lastname \n",
    "IS 'MASKED WITH FUNCTION anon.fake_last_name()';\n",
    "\n",
    "SECURITY LABEL FOR anon ON COLUMN customer.phone \n",
    "IS 'MASKED WITH FUNCTION anon.partial(phone,2,$$X-XXX-XX$$,2)';"
   ]
  },
  {
   "cell_type": "markdown",
   "metadata": {},
   "source": [
    "## Apply the rules permanently"
   ]
  },
  {
   "cell_type": "code",
   "execution_count": 31,
   "metadata": {},
   "outputs": [
    {
     "data": {
      "text/html": [
       "<table>\n",
       "    <tr>\n",
       "        <th>anonymize_table</th>\n",
       "    </tr>\n",
       "    <tr>\n",
       "        <td>True</td>\n",
       "    </tr>\n",
       "</table>"
      ],
      "text/plain": [
       "[(True,)]"
      ]
     },
     "execution_count": 31,
     "metadata": {},
     "output_type": "execute_result"
    }
   ],
   "source": [
    "%%sql\n",
    "SELECT anon.anonymize_table('customer');"
   ]
  },
  {
   "cell_type": "code",
   "execution_count": 32,
   "metadata": {},
   "outputs": [
    {
     "data": {
      "text/html": [
       "<table>\n",
       "    <tr>\n",
       "        <th>id</th>\n",
       "        <th>firstname</th>\n",
       "        <th>lastname</th>\n",
       "        <th>phone</th>\n",
       "    </tr>\n",
       "    <tr>\n",
       "        <td>107</td>\n",
       "        <td>Shadrach</td>\n",
       "        <td>Hibshman</td>\n",
       "        <td>06X-XXX-XX11</td>\n",
       "    </tr>\n",
       "    <tr>\n",
       "        <td>258</td>\n",
       "        <td>Reiner</td>\n",
       "        <td>Schwark</td>\n",
       "        <td>None</td>\n",
       "    </tr>\n",
       "    <tr>\n",
       "        <td>341</td>\n",
       "        <td>Tierney</td>\n",
       "        <td>Dagnone</td>\n",
       "        <td>34X-XXX-XX23</td>\n",
       "    </tr>\n",
       "</table>"
      ],
      "text/plain": [
       "[(107, 'Shadrach', 'Hibshman', '06X-XXX-XX11'),\n",
       " (258, 'Reiner', 'Schwark', None),\n",
       " (341, 'Tierney', 'Dagnone', '34X-XXX-XX23')]"
      ]
     },
     "execution_count": 32,
     "metadata": {},
     "output_type": "execute_result"
    }
   ],
   "source": [
    "%%sql\n",
    "SELECT id, firstname, lastname, phone\n",
    "FROM customer;"
   ]
  },
  {
   "cell_type": "markdown",
   "metadata": {},
   "source": [
    "---\n",
    "\n",
    "\n",
    "> This is called `Static Masking` because the **real data has been permanently replaced**.\n",
    "> We'll see later how we can use dynamic anonymization or anonymous exports.\n"
   ]
  },
  {
   "cell_type": "markdown",
   "metadata": {},
   "source": [
    "## Exercices\n",
    "\n",
    "\n",
    "### E101 - Mask the client's first names\n",
    "\n",
    "Declare a new masking rule and run the static anonymization function again.\n",
    "\n",
    "### E102 - Hide the last 3 digits of the postcode  \n",
    "\n",
    "Paul realizes that the postcode gives a clear indication of where his customers live.\n",
    "However he would like to have statistics based on their \"postcode area\".\n",
    "\n",
    "**Add a new masking rule to replace the last 3 digits by 'x'.**\n",
    "\n",
    "### E103 - Count how many clients live in each postcode area ?\n",
    "\n",
    "Aggregate the customers based on their anonymized postcode.\n",
    "\n",
    "### E104 - Keep only the year of each birth date\n",
    "\n",
    "Paul wants aged-based statistic. But he also wants to hide the real birth date of the\n",
    "customers. \n",
    "\n",
    "Replace all the birth dates by January 1rst, while keeping the real year.\n",
    "\n",
    "> HINT: You can use the [make_date] function\n",
    "\n",
    "[make_date]: https://www.postgresql.org/docs/current/functions-datetime.html#FUNCTIONS-DATETIME-TABLE\n",
    "\n",
    "### E105 -  Singling out a customer\n",
    "\n",
    "Even if the \"customer\" is properly anonymized, we can still isolate a given individual based on data stored outside of the table. For instance, when can identity the best client of Paul's boutique with a query like this\n"
   ]
  },
  {
   "cell_type": "code",
   "execution_count": 33,
   "metadata": {},
   "outputs": [
    {
     "data": {
      "text/html": [
       "<table>\n",
       "    <tr>\n",
       "        <th>id</th>\n",
       "        <th>firstname</th>\n",
       "        <th>lastname</th>\n",
       "        <th>phone</th>\n",
       "        <th>birth</th>\n",
       "        <th>postcode</th>\n",
       "    </tr>\n",
       "    <tr>\n",
       "        <td>258</td>\n",
       "        <td>Reiner</td>\n",
       "        <td>Schwark</td>\n",
       "        <td>None</td>\n",
       "        <td>1951-01-01</td>\n",
       "        <td>90xxx</td>\n",
       "    </tr>\n",
       "</table>"
      ],
      "text/plain": [
       "[(258, 'Reiner', 'Schwark', None, datetime.date(1951, 1, 1), '90xxx')]"
      ]
     },
     "execution_count": 33,
     "metadata": {},
     "output_type": "execute_result"
    }
   ],
   "source": [
    "%%sql\n",
    "WITH best_client AS (\n",
    "    SELECT SUM(amount), fk_customer_id \n",
    "    FROM payout\n",
    "    GROUP BY fk_customer_id\n",
    "    ORDER BY 1 DESC\n",
    "    LIMIT 1\n",
    ")\n",
    "SELECT c.*\n",
    "FROM customer c \n",
    "JOIN best_client b ON (c.id = b.fk_customer_id)"
   ]
  },
  {
   "cell_type": "markdown",
   "metadata": {},
   "source": [
    "This is called **[Singling Out] a person.**\n",
    "\n",
    "[Singling Out]: https://www.pnas.org/content/117/15/8344\n",
    "        \n",
    "We need to anonymize even further by removing the link between a person and its company. In the \"order\" table, this link is materialized by a foreign key on the field \"fk_company_id\". However we can't remove values from this column or insert fake identifiers because if would break the foreign key constraint.\n",
    "\n",
    "---\n",
    "\n",
    "How can we separate the customers from their payouts while respecting the integrity of the data ?\n",
    "\n",
    "Find a function that will shuffle the column \"fk_company_id\" of the \"payout\" table\n",
    "\n",
    "> HINT: Check out the \"[static masking]\" section of the [documentation]\n",
    "\n",
    "[documentation]: https://postgresql-anonymizer.readthedocs.io/en/stable/\n",
    "[static masking]: https://postgresql-anonymizer.readthedocs.io/en/stable/static_masking.html#shuffling\n",
    "\n"
   ]
  },
  {
   "cell_type": "markdown",
   "metadata": {},
   "source": [
    "## Solutions\n",
    "\n",
    "### S101"
   ]
  },
  {
   "cell_type": "code",
   "execution_count": 34,
   "metadata": {},
   "outputs": [
    {
     "data": {
      "text/html": [
       "<table>\n",
       "    <tr>\n",
       "        <th>id</th>\n",
       "        <th>firstname</th>\n",
       "        <th>lastname</th>\n",
       "    </tr>\n",
       "    <tr>\n",
       "        <td>107</td>\n",
       "        <td>Gemariah</td>\n",
       "        <td>Russe</td>\n",
       "    </tr>\n",
       "    <tr>\n",
       "        <td>258</td>\n",
       "        <td>Erlend</td>\n",
       "        <td>Malcolm</td>\n",
       "    </tr>\n",
       "    <tr>\n",
       "        <td>341</td>\n",
       "        <td>Jordan</td>\n",
       "        <td>Musca</td>\n",
       "    </tr>\n",
       "</table>"
      ],
      "text/plain": [
       "[(107, 'Gemariah', 'Russe'),\n",
       " (258, 'Erlend', 'Malcolm'),\n",
       " (341, 'Jordan', 'Musca')]"
      ]
     },
     "execution_count": 34,
     "metadata": {},
     "output_type": "execute_result"
    }
   ],
   "source": [
    "%%sql\n",
    "SECURITY LABEL FOR anon ON COLUMN customer.firstname \n",
    "IS 'MASKED WITH FUNCTION anon.fake_first_name()';\n",
    "\n",
    "SELECT anon.anonymize_table('customer');\n",
    "\n",
    "SELECT id, firstname, lastname \n",
    "FROM customer;\n"
   ]
  },
  {
   "cell_type": "markdown",
   "metadata": {},
   "source": [
    "### S102"
   ]
  },
  {
   "cell_type": "code",
   "execution_count": 35,
   "metadata": {},
   "outputs": [
    {
     "data": {
      "text/html": [
       "<table>\n",
       "    <tr>\n",
       "        <th>id</th>\n",
       "        <th>firstname</th>\n",
       "        <th>lastname</th>\n",
       "        <th>postcode</th>\n",
       "    </tr>\n",
       "    <tr>\n",
       "        <td>107</td>\n",
       "        <td>Griogair</td>\n",
       "        <td>Lehne</td>\n",
       "        <td>90xxx</td>\n",
       "    </tr>\n",
       "    <tr>\n",
       "        <td>258</td>\n",
       "        <td>Vilhelmiina</td>\n",
       "        <td>Turi</td>\n",
       "        <td>90xxx</td>\n",
       "    </tr>\n",
       "    <tr>\n",
       "        <td>341</td>\n",
       "        <td>Medea</td>\n",
       "        <td>Puelo</td>\n",
       "        <td>04xxx</td>\n",
       "    </tr>\n",
       "</table>"
      ],
      "text/plain": [
       "[(107, 'Griogair', 'Lehne', '90xxx'),\n",
       " (258, 'Vilhelmiina', 'Turi', '90xxx'),\n",
       " (341, 'Medea', 'Puelo', '04xxx')]"
      ]
     },
     "execution_count": 35,
     "metadata": {},
     "output_type": "execute_result"
    }
   ],
   "source": [
    "%%sql\n",
    "SECURITY LABEL FOR anon ON COLUMN customer.postcode \n",
    "IS 'MASKED WITH FUNCTION anon.partial(postcode,2,$$xxx$$,0)';\n",
    "\n",
    "SELECT anon.anonymize_table('customer');\n",
    "\n",
    "SELECT id, firstname, lastname, postcode \n",
    "FROM customer;"
   ]
  },
  {
   "cell_type": "markdown",
   "metadata": {},
   "source": [
    "### S103"
   ]
  },
  {
   "cell_type": "code",
   "execution_count": 36,
   "metadata": {
    "scrolled": false
   },
   "outputs": [
    {
     "data": {
      "text/html": [
       "<table>\n",
       "    <tr>\n",
       "        <th>postcode</th>\n",
       "        <th>count</th>\n",
       "    </tr>\n",
       "    <tr>\n",
       "        <td>90xxx</td>\n",
       "        <td>2</td>\n",
       "    </tr>\n",
       "    <tr>\n",
       "        <td>04xxx</td>\n",
       "        <td>1</td>\n",
       "    </tr>\n",
       "</table>"
      ],
      "text/plain": [
       "[('90xxx', 2), ('04xxx', 1)]"
      ]
     },
     "execution_count": 36,
     "metadata": {},
     "output_type": "execute_result"
    }
   ],
   "source": [
    "%%sql\n",
    "SELECT postcode, COUNT(id)\n",
    "FROM customer\n",
    "GROUP BY postcode;"
   ]
  },
  {
   "cell_type": "markdown",
   "metadata": {},
   "source": [
    "### S104"
   ]
  },
  {
   "cell_type": "code",
   "execution_count": 37,
   "metadata": {},
   "outputs": [
    {
     "data": {
      "text/html": [
       "<table>\n",
       "    <tr>\n",
       "        <th>id</th>\n",
       "        <th>firstname</th>\n",
       "        <th>lastname</th>\n",
       "        <th>birth</th>\n",
       "    </tr>\n",
       "    <tr>\n",
       "        <td>107</td>\n",
       "        <td>Caetano</td>\n",
       "        <td>Mindell</td>\n",
       "        <td>1965-01-01</td>\n",
       "    </tr>\n",
       "    <tr>\n",
       "        <td>258</td>\n",
       "        <td>Agamemnon</td>\n",
       "        <td>Drobny</td>\n",
       "        <td>1951-01-01</td>\n",
       "    </tr>\n",
       "    <tr>\n",
       "        <td>341</td>\n",
       "        <td>Brutus</td>\n",
       "        <td>Segerman</td>\n",
       "        <td>1926-01-01</td>\n",
       "    </tr>\n",
       "</table>"
      ],
      "text/plain": [
       "[(107, 'Caetano', 'Mindell', datetime.date(1965, 1, 1)),\n",
       " (258, 'Agamemnon', 'Drobny', datetime.date(1951, 1, 1)),\n",
       " (341, 'Brutus', 'Segerman', datetime.date(1926, 1, 1))]"
      ]
     },
     "execution_count": 37,
     "metadata": {},
     "output_type": "execute_result"
    }
   ],
   "source": [
    "%%sql\n",
    "SECURITY LABEL FOR anon ON COLUMN customer.birth \n",
    "IS 'MASKED WITH FUNCTION make_date(EXTRACT(YEAR FROM birth)::INT,1,1)';\n",
    "\n",
    "SELECT anon.anonymize_table('customer');\n",
    "\n",
    "SELECT id, firstname, lastname, birth\n",
    "FROM customer;"
   ]
  },
  {
   "cell_type": "markdown",
   "metadata": {},
   "source": [
    "### S105\n",
    "\n",
    "Let's mix up the values of the fk_customer_id:"
   ]
  },
  {
   "cell_type": "code",
   "execution_count": 38,
   "metadata": {},
   "outputs": [
    {
     "data": {
      "text/html": [
       "<table>\n",
       "    <tr>\n",
       "        <th>shuffle_column</th>\n",
       "    </tr>\n",
       "    <tr>\n",
       "        <td>True</td>\n",
       "    </tr>\n",
       "</table>"
      ],
      "text/plain": [
       "[(True,)]"
      ]
     },
     "execution_count": 38,
     "metadata": {},
     "output_type": "execute_result"
    }
   ],
   "source": [
    "%%sql\n",
    "SELECT anon.shuffle_column('payout','fk_customer_id','id');"
   ]
  },
  {
   "cell_type": "markdown",
   "metadata": {},
   "source": [
    "Now let's try to single out the best client again :"
   ]
  },
  {
   "cell_type": "code",
   "execution_count": 39,
   "metadata": {},
   "outputs": [
    {
     "data": {
      "text/html": [
       "<table>\n",
       "    <tr>\n",
       "        <th>id</th>\n",
       "        <th>firstname</th>\n",
       "        <th>lastname</th>\n",
       "        <th>phone</th>\n",
       "        <th>birth</th>\n",
       "        <th>postcode</th>\n",
       "    </tr>\n",
       "    <tr>\n",
       "        <td>258</td>\n",
       "        <td>Agamemnon</td>\n",
       "        <td>Drobny</td>\n",
       "        <td>None</td>\n",
       "        <td>1951-01-01</td>\n",
       "        <td>90xxx</td>\n",
       "    </tr>\n",
       "</table>"
      ],
      "text/plain": [
       "[(258, 'Agamemnon', 'Drobny', None, datetime.date(1951, 1, 1), '90xxx')]"
      ]
     },
     "execution_count": 39,
     "metadata": {},
     "output_type": "execute_result"
    }
   ],
   "source": [
    "%%sql\n",
    "WITH best_client AS (\n",
    "    SELECT SUM(amount), fk_customer_id \n",
    "    FROM payout\n",
    "    GROUP BY fk_customer_id\n",
    "    ORDER BY 1 DESC\n",
    "    LIMIT 1\n",
    ")\n",
    "SELECT c.*\n",
    "FROM customer c \n",
    "JOIN best_client b ON (c.id = b.fk_customer_id);"
   ]
  },
  {
   "cell_type": "markdown",
   "metadata": {},
   "source": [
    "----\n",
    "\n",
    "**WARNING**\n",
    "\n",
    "Note that the link between a `customer` and its `payout` is now completely false. \n",
    "For instance, if a customer A had 2 payouts. One of these payout may be linked to \n",
    "a customer B, while the second one is linked to a customer C. \n",
    "\n",
    "In other words, this shuffling method with respect the foreign key constraint (aka \n",
    "the referential integrity) but it will break the data integrity. For some use case,\n",
    "this may be a problem.\n",
    "\n",
    "In this case, Pierre will not be able to produce a BI report with the shuffle data, \n",
    "because the links between the customers and their payments are fake."
   ]
  },
  {
   "cell_type": "code",
   "execution_count": null,
   "metadata": {},
   "outputs": [],
   "source": [
    "\n",
    "\n"
   ]
  },
  {
   "cell_type": "code",
   "execution_count": null,
   "metadata": {},
   "outputs": [],
   "source": []
  }
 ],
 "metadata": {
  "celltoolbar": "Tags",
  "kernelspec": {
   "display_name": "Python 3",
   "language": "python",
   "name": "python3"
  },
  "language_info": {
   "codemirror_mode": {
    "name": "ipython",
    "version": 3
   },
   "file_extension": ".py",
   "mimetype": "text/x-python",
   "name": "python",
   "nbconvert_exporter": "python",
   "pygments_lexer": "ipython3",
   "version": "3.8.10"
  }
 },
 "nbformat": 4,
 "nbformat_minor": 4
}
