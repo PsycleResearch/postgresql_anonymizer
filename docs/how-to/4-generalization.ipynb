{
 "cells": [
  {
   "cell_type": "markdown",
   "metadata": {},
   "source": [
    "# 4 - Generalization\n",
    "\n",
    "> The main idea of generalization is to \"blur\" the original data. For example, instead of saying « Mister X was \n",
    "> born on July 25, 1989 », we can say « Mister X was born is the 80's ». The information is still true, but it is \n",
    "> less precise and it can't be used to reidentify the subject.\n",
    "\n",
    "## The Story\n",
    "\n",
    "\n",
    "Paul hired dozens of employees over the years. He kept a record of their hair color, size and medical condition. \n",
    "\n",
    "Paul wants to extract weird stats from these details. He provides generalized views to Pierre.\n",
    "\n",
    "## How it works\n",
    "\n",
    "![](./img/anon_generalized.png)\n",
    "\n",
    "\n",
    "## Learning Objective\n",
    "\n",
    "In this section, we will learn:\n",
    "\n",
    "* The difference between masking and generalization\n",
    "* The concept of \"K-anonimity\"\n",
    "\n"
   ]
  },
  {
   "cell_type": "code",
   "execution_count": 1,
   "metadata": {},
   "outputs": [],
   "source": [
    "%reload_ext sql\n",
    "%sql postgresql://paul@localhost/boutique\n",
    "%config SqlMagic.feedback = False\n",
    "%config SqlMagic.displaycon = False"
   ]
  },
  {
   "cell_type": "markdown",
   "metadata": {},
   "source": [
    "## The \"employee\" table"
   ]
  },
  {
   "cell_type": "code",
   "execution_count": 24,
   "metadata": {},
   "outputs": [],
   "source": [
    "%%capture\n",
    "%%sql\n",
    "DROP TABLE IF EXISTS employee CASCADE; \n",
    "CREATE TABLE employee (\n",
    "  id INT PRIMARY KEY,\n",
    "  full_name  TEXT,\n",
    "  first_day DATE, last_day DATE,\n",
    "  height INT, \n",
    "  hair TEXT, eyes TEXT, size TEXT,  \n",
    "  asthma BOOLEAN,\n",
    "  CHECK(hair = ANY(ARRAY['bald','blond','dark','red'])),\n",
    "  CHECK(eyes = ANY(ARRAY['blue','green','brown'])) ,\n",
    "  CHECK(size = ANY(ARRAY['S','M','L','XL','XXL']))\n",
    ");"
   ]
  },
  {
   "cell_type": "markdown",
   "metadata": {},
   "source": [
    "\n"
   ]
  },
  {
   "cell_type": "markdown",
   "metadata": {},
   "source": [
    "---\n",
    "\n",
    "This is akward and illegal.\n",
    "\n",
    "---"
   ]
  },
  {
   "cell_type": "markdown",
   "metadata": {},
   "source": [
    "Loading the data :"
   ]
  },
  {
   "cell_type": "code",
   "execution_count": 25,
   "metadata": {},
   "outputs": [],
   "source": [
    "%%bash\n",
    "curl -Ls https://dali.bo/employee -o /tmp/employee.tsv\n",
    "head -n3 /tmp/employee.tsv"
   ]
  },
  {
   "cell_type": "code",
   "execution_count": 26,
   "metadata": {},
   "outputs": [],
   "source": [
    "%%capture \n",
    "%%bash\n",
    "export PGHOST=localhost\n",
    "export PGUSER=paul\n",
    "export PGDATABASE=boutique\n",
    "psql -c \"\\copy employee FROM '/tmp/employee.tsv'\""
   ]
  },
  {
   "cell_type": "code",
   "execution_count": 27,
   "metadata": {},
   "outputs": [
    {
     "data": {
      "text/html": [
       "<table>\n",
       "    <tr>\n",
       "        <th>count</th>\n",
       "    </tr>\n",
       "    <tr>\n",
       "        <td>16</td>\n",
       "    </tr>\n",
       "</table>"
      ],
      "text/plain": [
       "[(16,)]"
      ]
     },
     "execution_count": 27,
     "metadata": {},
     "output_type": "execute_result"
    }
   ],
   "source": [
    "%%sql\n",
    "SELECT count(*) FROM employee;"
   ]
  },
  {
   "cell_type": "code",
   "execution_count": 30,
   "metadata": {},
   "outputs": [
    {
     "data": {
      "text/html": [
       "<table>\n",
       "    <tr>\n",
       "        <th>full_name</th>\n",
       "        <th>first_day</th>\n",
       "        <th>hair</th>\n",
       "        <th>size</th>\n",
       "        <th>asthma</th>\n",
       "    </tr>\n",
       "    <tr>\n",
       "        <td>Luna Dickens</td>\n",
       "        <td>2018-07-22</td>\n",
       "        <td>blond</td>\n",
       "        <td>L</td>\n",
       "        <td>True</td>\n",
       "    </tr>\n",
       "    <tr>\n",
       "        <td>Paul Wolf</td>\n",
       "        <td>2020-01-15</td>\n",
       "        <td>bald</td>\n",
       "        <td>M</td>\n",
       "        <td>False</td>\n",
       "    </tr>\n",
       "    <tr>\n",
       "        <td>Rowan Hoeger</td>\n",
       "        <td>2018-12-01</td>\n",
       "        <td>dark</td>\n",
       "        <td>XXL</td>\n",
       "        <td>True</td>\n",
       "    </tr>\n",
       "</table>"
      ],
      "text/plain": [
       "[('Luna Dickens', datetime.date(2018, 7, 22), 'blond', 'L', True),\n",
       " ('Paul Wolf', datetime.date(2020, 1, 15), 'bald', 'M', False),\n",
       " ('Rowan Hoeger', datetime.date(2018, 12, 1), 'dark', 'XXL', True)]"
      ]
     },
     "execution_count": 30,
     "metadata": {},
     "output_type": "execute_result"
    }
   ],
   "source": [
    "%%sql\n",
    "SELECT full_name,first_day, hair, size, asthma\n",
    "FROM employee\n",
    "LIMIT 3;"
   ]
  },
  {
   "cell_type": "markdown",
   "metadata": {},
   "source": [
    "## Data suppression\n",
    "\n",
    "Paul wants to find if there's a correlation between asthma and the eyes color.\n",
    "\n",
    "He provides the following view to Pierre.\n"
   ]
  },
  {
   "cell_type": "code",
   "execution_count": 31,
   "metadata": {},
   "outputs": [],
   "source": [
    "%%capture\n",
    "%%sql\n",
    "DROP MATERIALIZED VIEW IF EXISTS v_asthma_eyes;\n",
    "CREATE MATERIALIZED VIEW v_asthma_eyes AS\n",
    "SELECT eyes, asthma\n",
    "FROM employee;"
   ]
  },
  {
   "cell_type": "code",
   "execution_count": 32,
   "metadata": {
    "scrolled": true
   },
   "outputs": [
    {
     "data": {
      "text/html": [
       "<table>\n",
       "    <tr>\n",
       "        <th>eyes</th>\n",
       "        <th>asthma</th>\n",
       "    </tr>\n",
       "    <tr>\n",
       "        <td>blue</td>\n",
       "        <td>True</td>\n",
       "    </tr>\n",
       "    <tr>\n",
       "        <td>brown</td>\n",
       "        <td>False</td>\n",
       "    </tr>\n",
       "    <tr>\n",
       "        <td>blue</td>\n",
       "        <td>True</td>\n",
       "    </tr>\n",
       "</table>"
      ],
      "text/plain": [
       "[('blue', True), ('brown', False), ('blue', True)]"
      ]
     },
     "execution_count": 32,
     "metadata": {},
     "output_type": "execute_result"
    }
   ],
   "source": [
    "%%sql\n",
    "SELECT * \n",
    "FROM v_asthma_eyes\n",
    "LIMIT 3;"
   ]
  },
  {
   "cell_type": "markdown",
   "metadata": {},
   "source": [
    "Pierre can now write queries over this view."
   ]
  },
  {
   "cell_type": "code",
   "execution_count": 33,
   "metadata": {},
   "outputs": [
    {
     "data": {
      "text/html": [
       "<table>\n",
       "    <tr>\n",
       "        <th>eyes</th>\n",
       "        <th>asthma_rate</th>\n",
       "    </tr>\n",
       "    <tr>\n",
       "        <td>green</td>\n",
       "        <td>100</td>\n",
       "    </tr>\n",
       "    <tr>\n",
       "        <td>brown</td>\n",
       "        <td>37</td>\n",
       "    </tr>\n",
       "    <tr>\n",
       "        <td>blue</td>\n",
       "        <td>33</td>\n",
       "    </tr>\n",
       "</table>"
      ],
      "text/plain": [
       "[('green', 100), ('brown', 37), ('blue', 33)]"
      ]
     },
     "execution_count": 33,
     "metadata": {},
     "output_type": "execute_result"
    }
   ],
   "source": [
    "%%sql\n",
    "SELECT \n",
    "  eyes, \n",
    "  100*COUNT(1) FILTER (WHERE asthma) / COUNT(1) AS asthma_rate\n",
    "FROM v_asthma_eyes\n",
    "GROUP BY eyes;"
   ]
  },
  {
   "cell_type": "markdown",
   "metadata": {},
   "source": [
    "Paul just proved that asthma is caused by green eyes. "
   ]
  },
  {
   "cell_type": "markdown",
   "metadata": {},
   "source": [
    "## K-Anonymity\n",
    "\n",
    "\n",
    "The 'asthma' and 'eyes' are considered as indirect identifiers. \n"
   ]
  },
  {
   "cell_type": "code",
   "execution_count": 34,
   "metadata": {},
   "outputs": [],
   "source": [
    "%%capture\n",
    "%%sql\n",
    "SECURITY LABEL FOR anon ON COLUMN v_asthma_eyes.eyes\n",
    "IS 'INDIRECT IDENTIFIER';\n",
    "\n",
    "SECURITY LABEL FOR anon ON COLUMN v_asthma_eyes.asthma\n",
    "IS 'INDIRECT IDENTIFIER';"
   ]
  },
  {
   "cell_type": "code",
   "execution_count": 35,
   "metadata": {},
   "outputs": [
    {
     "data": {
      "text/html": [
       "<table>\n",
       "    <tr>\n",
       "        <th>k_anonymity</th>\n",
       "    </tr>\n",
       "    <tr>\n",
       "        <td>2</td>\n",
       "    </tr>\n",
       "</table>"
      ],
      "text/plain": [
       "[(2,)]"
      ]
     },
     "execution_count": 35,
     "metadata": {},
     "output_type": "execute_result"
    }
   ],
   "source": [
    "%%sql\n",
    "SELECT anon.k_anonymity('v_asthma_eyes');"
   ]
  },
  {
   "cell_type": "markdown",
   "metadata": {},
   "source": [
    "The v_asthma_eyes has '2-anonymity'. This means that each \n",
    "quasi-identifier combination (the 'eyes-asthma' tuples) occurs in \n",
    "at least 2 records for a dataset.\n",
    "\n",
    "In other words, it means that each individual in the view cannot be \n",
    "distinguished from at least 1 (k-1) other individual."
   ]
  },
  {
   "cell_type": "markdown",
   "metadata": {},
   "source": [
    "## Range and Generalization functions "
   ]
  },
  {
   "cell_type": "code",
   "execution_count": 36,
   "metadata": {},
   "outputs": [],
   "source": [
    "%%capture\n",
    "%%sql\n",
    "DROP MATERIALIZED VIEW IF EXISTS v_staff_per_month;\n",
    "CREATE MATERIALIZED VIEW v_staff_per_month AS\n",
    "SELECT\n",
    "    anon.generalize_daterange(first_day,'month') AS first_day,\n",
    "    anon.generalize_daterange(last_day,'month') AS last_day\n",
    "FROM employee;"
   ]
  },
  {
   "cell_type": "code",
   "execution_count": 37,
   "metadata": {},
   "outputs": [
    {
     "data": {
      "text/html": [
       "<table>\n",
       "    <tr>\n",
       "        <th>first_day</th>\n",
       "        <th>last_day</th>\n",
       "    </tr>\n",
       "    <tr>\n",
       "        <td>[2018-07-01, 2018-08-01)</td>\n",
       "        <td>[2018-12-01, 2019-01-01)</td>\n",
       "    </tr>\n",
       "    <tr>\n",
       "        <td>[2020-01-01, 2020-02-01)</td>\n",
       "        <td>(None, None)</td>\n",
       "    </tr>\n",
       "    <tr>\n",
       "        <td>[2018-12-01, 2019-01-01)</td>\n",
       "        <td>[2018-12-01, 2019-01-01)</td>\n",
       "    </tr>\n",
       "</table>"
      ],
      "text/plain": [
       "[(DateRange(datetime.date(2018, 7, 1), datetime.date(2018, 8, 1), '[)'), DateRange(datetime.date(2018, 12, 1), datetime.date(2019, 1, 1), '[)')),\n",
       " (DateRange(datetime.date(2020, 1, 1), datetime.date(2020, 2, 1), '[)'), DateRange(None, None, '()')),\n",
       " (DateRange(datetime.date(2018, 12, 1), datetime.date(2019, 1, 1), '[)'), DateRange(datetime.date(2018, 12, 1), datetime.date(2019, 1, 1), '[)'))]"
      ]
     },
     "execution_count": 37,
     "metadata": {},
     "output_type": "execute_result"
    }
   ],
   "source": [
    "%%sql\n",
    "SELECT * \n",
    "FROM v_staff_per_month\n",
    "LIMIT 3;"
   ]
  },
  {
   "cell_type": "markdown",
   "metadata": {},
   "source": [
    "Pierre can write a query to find how many employees were hired in november 2021."
   ]
  },
  {
   "cell_type": "code",
   "execution_count": 38,
   "metadata": {},
   "outputs": [
    {
     "data": {
      "text/html": [
       "<table>\n",
       "    <tr>\n",
       "        <th>count</th>\n",
       "    </tr>\n",
       "    <tr>\n",
       "        <td>4</td>\n",
       "    </tr>\n",
       "</table>"
      ],
      "text/plain": [
       "[(4,)]"
      ]
     },
     "execution_count": 38,
     "metadata": {},
     "output_type": "execute_result"
    }
   ],
   "source": [
    "%%sql\n",
    "SELECT COUNT(1) \n",
    "       FILTER ( \n",
    "            WHERE make_date(2019,11,1) \n",
    "            BETWEEN lower(first_day) \n",
    "            AND COALESCE(upper(last_day),now()) \n",
    "       ) \n",
    "FROM v_staff_per_month;"
   ]
  },
  {
   "cell_type": "markdown",
   "metadata": {},
   "source": [
    "### Declaring the indirect identifiers \n",
    "\n",
    "Now let's check the k-anonymity of this view by declaring which columns are indirect identifiers."
   ]
  },
  {
   "cell_type": "code",
   "execution_count": 39,
   "metadata": {},
   "outputs": [
    {
     "data": {
      "text/html": [
       "<table>\n",
       "    <tr>\n",
       "        <th>k_anonymity</th>\n",
       "    </tr>\n",
       "    <tr>\n",
       "        <td>1</td>\n",
       "    </tr>\n",
       "</table>"
      ],
      "text/plain": [
       "[(1,)]"
      ]
     },
     "execution_count": 39,
     "metadata": {},
     "output_type": "execute_result"
    }
   ],
   "source": [
    "%%sql\n",
    "SECURITY LABEL FOR anon ON COLUMN v_staff_per_month.first_day\n",
    "IS 'INDIRECT IDENTIFIER';\n",
    "SECURITY LABEL FOR anon ON COLUMN v_staff_per_month.last_day\n",
    "IS 'INDIRECT IDENTIFIER';\n",
    "\n",
    "SELECT anon.k_anonymity('v_staff_per_month');"
   ]
  },
  {
   "cell_type": "markdown",
   "metadata": {},
   "source": [
    "In this case, the k factor is 1 which means that at least one unique individual can be identified directly by his/her first and last dates."
   ]
  },
  {
   "cell_type": "markdown",
   "metadata": {},
   "source": [
    "## Exercices\n",
    "\n",
    "\n",
    "### E401 - Simplify 'v_staff_ per_month' and decrease granularity \n",
    "\n",
    "Generalizing dates per month is not enough. Write another view called 'v_staff_per_year' that will generalized date per years.\n",
    "\n",
    "Also simplify the view by using a range of int to store the years instead of a date range.\n",
    "\n",
    "### E402 - Staff progression over the years\n",
    "\n",
    "How many people worked for Paul for each year between 2018 and 2021 ?\n",
    "\n",
    "### E403 - Reaching 2-anonymity for the 'v_staff_ per_year' view\n",
    "\n",
    "What is the k-anonymity of 'v_staff_ per_month_years' ?"
   ]
  },
  {
   "cell_type": "markdown",
   "metadata": {},
   "source": [
    "## Solutions\n",
    "\n",
    "### S401"
   ]
  },
  {
   "cell_type": "code",
   "execution_count": 40,
   "metadata": {},
   "outputs": [],
   "source": [
    "%%capture\n",
    "%%sql\n",
    "DROP MATERIALIZED VIEW IF EXISTS v_staff_per_year;\n",
    "CREATE MATERIALIZED VIEW v_staff_per_year AS\n",
    "SELECT\n",
    "  int4range(\n",
    "    extract(year from first_day)::INT,\n",
    "    extract(year from last_day)::INT,\n",
    "    '[]' -- include upper bound\n",
    "  ) AS period\n",
    "FROM employee;"
   ]
  },
  {
   "cell_type": "code",
   "execution_count": 41,
   "metadata": {},
   "outputs": [
    {
     "data": {
      "text/html": [
       "<table>\n",
       "    <tr>\n",
       "        <th>period</th>\n",
       "    </tr>\n",
       "    <tr>\n",
       "        <td>[2018, 2019)</td>\n",
       "    </tr>\n",
       "    <tr>\n",
       "        <td>[2020, None)</td>\n",
       "    </tr>\n",
       "    <tr>\n",
       "        <td>[2018, 2019)</td>\n",
       "    </tr>\n",
       "</table>"
      ],
      "text/plain": [
       "[(NumericRange(2018, 2019, '[)'),),\n",
       " (NumericRange(2020, None, '[)'),),\n",
       " (NumericRange(2018, 2019, '[)'),)]"
      ]
     },
     "execution_count": 41,
     "metadata": {},
     "output_type": "execute_result"
    }
   ],
   "source": [
    "%%sql\n",
    "SELECT * \n",
    "FROM v_staff_per_year\n",
    "LIMIT 3;"
   ]
  },
  {
   "cell_type": "markdown",
   "metadata": {},
   "source": [
    "### S402"
   ]
  },
  {
   "cell_type": "code",
   "execution_count": 42,
   "metadata": {},
   "outputs": [
    {
     "data": {
      "text/html": [
       "<table>\n",
       "    <tr>\n",
       "        <th>year</th>\n",
       "        <th>count</th>\n",
       "    </tr>\n",
       "    <tr>\n",
       "        <td>2018</td>\n",
       "        <td>4</td>\n",
       "    </tr>\n",
       "    <tr>\n",
       "        <td>2019</td>\n",
       "        <td>6</td>\n",
       "    </tr>\n",
       "    <tr>\n",
       "        <td>2020</td>\n",
       "        <td>9</td>\n",
       "    </tr>\n",
       "    <tr>\n",
       "        <td>2021</td>\n",
       "        <td>10</td>\n",
       "    </tr>\n",
       "</table>"
      ],
      "text/plain": [
       "[(2018, 4), (2019, 6), (2020, 9), (2021, 10)]"
      ]
     },
     "execution_count": 42,
     "metadata": {},
     "output_type": "execute_result"
    }
   ],
   "source": [
    "%%sql\n",
    "SELECT \n",
    "  year,\n",
    "  COUNT(1) FILTER ( \n",
    "      WHERE year <@ period \n",
    "  ) \n",
    "FROM\n",
    "    generate_series(2018,2021) year,\n",
    "    v_staff_per_year\n",
    "GROUP BY year\n",
    "ORDER BY year ASC;"
   ]
  },
  {
   "cell_type": "markdown",
   "metadata": {},
   "source": [
    "### S403"
   ]
  },
  {
   "cell_type": "code",
   "execution_count": 43,
   "metadata": {},
   "outputs": [
    {
     "data": {
      "text/html": [
       "<table>\n",
       "    <tr>\n",
       "        <th>k_anonymity</th>\n",
       "    </tr>\n",
       "    <tr>\n",
       "        <td>2</td>\n",
       "    </tr>\n",
       "</table>"
      ],
      "text/plain": [
       "[(2,)]"
      ]
     },
     "execution_count": 43,
     "metadata": {},
     "output_type": "execute_result"
    }
   ],
   "source": [
    "%%sql\n",
    "SECURITY LABEL FOR anon ON COLUMN v_staff_per_year.period\n",
    "IS 'INDIRECT IDENTIFIER';\n",
    "\n",
    "SELECT anon.k_anonymity('v_staff_per_year');"
   ]
  },
  {
   "cell_type": "code",
   "execution_count": null,
   "metadata": {},
   "outputs": [],
   "source": []
  },
  {
   "cell_type": "code",
   "execution_count": null,
   "metadata": {},
   "outputs": [],
   "source": []
  }
 ],
 "metadata": {
  "kernelspec": {
   "display_name": "Python 3 (ipykernel)",
   "language": "python",
   "name": "python3"
  },
  "language_info": {
   "codemirror_mode": {
    "name": "ipython",
    "version": 3
   },
   "file_extension": ".py",
   "mimetype": "text/x-python",
   "name": "python",
   "nbconvert_exporter": "python",
   "pygments_lexer": "ipython3",
   "version": "3.7.3"
  }
 },
 "nbformat": 4,
 "nbformat_minor": 4
}
