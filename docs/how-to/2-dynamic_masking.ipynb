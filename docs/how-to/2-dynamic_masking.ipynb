{
 "cells": [
  {
   "cell_type": "markdown",
   "metadata": {},
   "source": [
    "# 2- How to use Dynamic Masking \n",
    "\n",
    "\n",
    "> With Dynamic Masking, the database owner can hide personnal data for some users, \n",
    "> while other users are still allowed to read and write the authentic data.\n",
    "\n",
    "## The Story\n",
    "\n",
    "\n",
    "Paul has 2 employees: \n",
    "\n",
    "* Jack is operating the new sales application, he needs access to the real data. He is what the GPDR would call a **\"data processor\"**. \n",
    "* Pierre is a data analyst who runs statistic queries on the database. He should not have access to any personnal data. \n",
    "\n",
    "## How it works\n",
    "\n",
    "![](./img/anon_dynamic.png)\n",
    "\n",
    "## Objectives\n",
    "\n",
    "In this section, we will learn:\n",
    "\n",
    "* How to write simple masking rules\n",
    "* The advantage and limitations of dynamic masking\n",
    "* The concept of \"Linkability\" of a person\n"
   ]
  },
  {
   "cell_type": "code",
   "execution_count": 32,
   "metadata": {},
   "outputs": [],
   "source": [
    "%reload_ext sql\n",
    "%sql postgresql://paul@localhost/boutique\n",
    "%config SqlMagic.feedback = False\n",
    "%config SqlMagic.displaycon = False"
   ]
  },
  {
   "cell_type": "markdown",
   "metadata": {},
   "source": [
    "## The \"company\" table"
   ]
  },
  {
   "cell_type": "code",
   "execution_count": 33,
   "metadata": {},
   "outputs": [],
   "source": [
    "%%capture\n",
    "%%sql\n",
    "DROP TABLE IF EXISTS supplier CASCADE;\n",
    "DROP TABLE IF EXISTS company CASCADE;\n",
    "\n",
    "CREATE TABLE company (\n",
    "    id SERIAL PRIMARY KEY,\n",
    "    name TEXT,\n",
    "    vat_id TEXT UNIQUE\n",
    ");"
   ]
  },
  {
   "cell_type": "code",
   "execution_count": 34,
   "metadata": {},
   "outputs": [],
   "source": [
    "%%capture\n",
    "%%sql\n",
    "INSERT INTO company \n",
    "VALUES \n",
    "(952,'Shadrach', 'FR62684255667'),\n",
    "(194,E'Johnny\\'s Shoe Store','CHE670945644'),\n",
    "(346,'Capitol Records','GB663829617823')\n",
    ";"
   ]
  },
  {
   "cell_type": "code",
   "execution_count": 35,
   "metadata": {},
   "outputs": [
    {
     "data": {
      "text/html": [
       "<table>\n",
       "    <tr>\n",
       "        <th>id</th>\n",
       "        <th>name</th>\n",
       "        <th>vat_id</th>\n",
       "    </tr>\n",
       "    <tr>\n",
       "        <td>952</td>\n",
       "        <td>Shadrach</td>\n",
       "        <td>FR62684255667</td>\n",
       "    </tr>\n",
       "    <tr>\n",
       "        <td>194</td>\n",
       "        <td>Johnny&#x27;s Shoe Store</td>\n",
       "        <td>CHE670945644</td>\n",
       "    </tr>\n",
       "    <tr>\n",
       "        <td>346</td>\n",
       "        <td>Capitol Records</td>\n",
       "        <td>GB663829617823</td>\n",
       "    </tr>\n",
       "</table>"
      ],
      "text/plain": [
       "[(952, 'Shadrach', 'FR62684255667'),\n",
       " (194, \"Johnny's Shoe Store\", 'CHE670945644'),\n",
       " (346, 'Capitol Records', 'GB663829617823')]"
      ]
     },
     "execution_count": 35,
     "metadata": {},
     "output_type": "execute_result"
    }
   ],
   "source": [
    "%%sql \n",
    "SELECT * FROM company;"
   ]
  },
  {
   "cell_type": "markdown",
   "metadata": {},
   "source": [
    "## The \"supplier\" table"
   ]
  },
  {
   "cell_type": "code",
   "execution_count": 36,
   "metadata": {},
   "outputs": [],
   "source": [
    "%%capture\n",
    "%%sql\n",
    "CREATE TABLE supplier (\n",
    "    id SERIAL PRIMARY KEY,\n",
    "    fk_company_id INT REFERENCES company(id), \n",
    "    contact TEXT, \n",
    "    phone TEXT,\n",
    "    job_title TEXT\n",
    ");"
   ]
  },
  {
   "cell_type": "code",
   "execution_count": 37,
   "metadata": {},
   "outputs": [],
   "source": [
    "%%capture \n",
    "%%sql \n",
    "INSERT INTO supplier \n",
    "VALUES \n",
    "(299,194,'Johnny Ryall','597-500-569','CEO'),\n",
    "(157,346,'George Clinton', '131-002-530','Sales manager')\n",
    ";"
   ]
  },
  {
   "cell_type": "code",
   "execution_count": 38,
   "metadata": {},
   "outputs": [
    {
     "data": {
      "text/html": [
       "<table>\n",
       "    <tr>\n",
       "        <th>id</th>\n",
       "        <th>fk_company_id</th>\n",
       "        <th>contact</th>\n",
       "        <th>phone</th>\n",
       "        <th>job_title</th>\n",
       "    </tr>\n",
       "    <tr>\n",
       "        <td>299</td>\n",
       "        <td>194</td>\n",
       "        <td>Johnny Ryall</td>\n",
       "        <td>597-500-569</td>\n",
       "        <td>CEO</td>\n",
       "    </tr>\n",
       "    <tr>\n",
       "        <td>157</td>\n",
       "        <td>346</td>\n",
       "        <td>George Clinton</td>\n",
       "        <td>131-002-530</td>\n",
       "        <td>Sales manager</td>\n",
       "    </tr>\n",
       "</table>"
      ],
      "text/plain": [
       "[(299, 194, 'Johnny Ryall', '597-500-569', 'CEO'),\n",
       " (157, 346, 'George Clinton', '131-002-530', 'Sales manager')]"
      ]
     },
     "execution_count": 38,
     "metadata": {},
     "output_type": "execute_result"
    }
   ],
   "source": [
    "%%sql \n",
    "SELECT * FROM supplier;"
   ]
  },
  {
   "cell_type": "markdown",
   "metadata": {},
   "source": [
    "## Activate the extension"
   ]
  },
  {
   "cell_type": "code",
   "execution_count": 39,
   "metadata": {},
   "outputs": [],
   "source": [
    "%%capture\n",
    "%%sql\n",
    "CREATE EXTENSION IF NOT EXISTS anon CASCADE;\n",
    "SELECT anon.init();\n",
    "SELECT setseed(0);"
   ]
  },
  {
   "cell_type": "markdown",
   "metadata": {},
   "source": [
    "## Dynamic Masking"
   ]
  },
  {
   "cell_type": "markdown",
   "metadata": {},
   "source": [
    "### Activate the masking engine"
   ]
  },
  {
   "cell_type": "code",
   "execution_count": 40,
   "metadata": {},
   "outputs": [],
   "source": [
    "%%capture\n",
    "%%sql\n",
    "SELECT anon.start_dynamic_masking();"
   ]
  },
  {
   "cell_type": "markdown",
   "metadata": {},
   "source": [
    "### Masking a role"
   ]
  },
  {
   "cell_type": "code",
   "execution_count": 41,
   "metadata": {},
   "outputs": [],
   "source": [
    "%%capture\n",
    "%%sql\n",
    "SECURITY LABEL FOR anon ON ROLE pierre IS 'MASKED';\n",
    "GRANT ALL ON SCHEMA public TO jack;\n",
    "GRANT ALL ON ALL TABLES IN SCHEMA public TO jack;"
   ]
  },
  {
   "cell_type": "markdown",
   "metadata": {},
   "source": [
    "--- \n",
    "\n",
    "Now connect as Pierre and try to read the supplier table:"
   ]
  },
  {
   "cell_type": "code",
   "execution_count": 42,
   "metadata": {},
   "outputs": [],
   "source": [
    "%sql postgresql://pierre@localhost/boutique"
   ]
  },
  {
   "cell_type": "code",
   "execution_count": 43,
   "metadata": {},
   "outputs": [
    {
     "data": {
      "text/html": [
       "<table>\n",
       "    <tr>\n",
       "        <th>id</th>\n",
       "        <th>fk_company_id</th>\n",
       "        <th>contact</th>\n",
       "        <th>phone</th>\n",
       "        <th>job_title</th>\n",
       "    </tr>\n",
       "    <tr>\n",
       "        <td>299</td>\n",
       "        <td>194</td>\n",
       "        <td>Johnny Ryall</td>\n",
       "        <td>597-500-569</td>\n",
       "        <td>CEO</td>\n",
       "    </tr>\n",
       "    <tr>\n",
       "        <td>157</td>\n",
       "        <td>346</td>\n",
       "        <td>George Clinton</td>\n",
       "        <td>131-002-530</td>\n",
       "        <td>Sales manager</td>\n",
       "    </tr>\n",
       "</table>"
      ],
      "text/plain": [
       "[(299, 194, 'Johnny Ryall', '597-500-569', 'CEO'),\n",
       " (157, 346, 'George Clinton', '131-002-530', 'Sales manager')]"
      ]
     },
     "execution_count": 43,
     "metadata": {},
     "output_type": "execute_result"
    }
   ],
   "source": [
    "%%sql\n",
    "SELECT * FROM supplier;"
   ]
  },
  {
   "cell_type": "markdown",
   "metadata": {},
   "source": [
    "For the moment, there is no masking rule so Pierre can see the original data in each table."
   ]
  },
  {
   "cell_type": "markdown",
   "metadata": {},
   "source": [
    "## Masking the supplier names"
   ]
  },
  {
   "cell_type": "markdown",
   "metadata": {},
   "source": [
    "Connect as Paul and define a masking rule on the supplier table:"
   ]
  },
  {
   "cell_type": "code",
   "execution_count": 44,
   "metadata": {},
   "outputs": [],
   "source": [
    "%sql postgresql://paul@localhost/boutique"
   ]
  },
  {
   "cell_type": "code",
   "execution_count": 45,
   "metadata": {},
   "outputs": [],
   "source": [
    "%%capture\n",
    "%%sql \n",
    "SECURITY LABEL FOR  anon ON COLUMN supplier.contact\n",
    "IS 'MASKED WITH VALUE $$CONFIDENTIAL$$';"
   ]
  },
  {
   "cell_type": "markdown",
   "metadata": {},
   "source": [
    "---\n",
    "\n",
    "Now connect as Pierre and try to read the supplier table again:"
   ]
  },
  {
   "cell_type": "code",
   "execution_count": 46,
   "metadata": {},
   "outputs": [],
   "source": [
    "%sql postgresql://pierre@localhost/boutique"
   ]
  },
  {
   "cell_type": "code",
   "execution_count": 47,
   "metadata": {},
   "outputs": [
    {
     "data": {
      "text/html": [
       "<table>\n",
       "    <tr>\n",
       "        <th>id</th>\n",
       "        <th>fk_company_id</th>\n",
       "        <th>contact</th>\n",
       "        <th>phone</th>\n",
       "        <th>job_title</th>\n",
       "    </tr>\n",
       "    <tr>\n",
       "        <td>299</td>\n",
       "        <td>194</td>\n",
       "        <td>CONFIDENTIAL</td>\n",
       "        <td>597-500-569</td>\n",
       "        <td>CEO</td>\n",
       "    </tr>\n",
       "    <tr>\n",
       "        <td>157</td>\n",
       "        <td>346</td>\n",
       "        <td>CONFIDENTIAL</td>\n",
       "        <td>131-002-530</td>\n",
       "        <td>Sales manager</td>\n",
       "    </tr>\n",
       "</table>"
      ],
      "text/plain": [
       "[(299, 194, 'CONFIDENTIAL', '597-500-569', 'CEO'),\n",
       " (157, 346, 'CONFIDENTIAL', '131-002-530', 'Sales manager')]"
      ]
     },
     "execution_count": 47,
     "metadata": {},
     "output_type": "execute_result"
    }
   ],
   "source": [
    "%%sql\n",
    "SELECT * FROM supplier;"
   ]
  },
  {
   "cell_type": "markdown",
   "metadata": {},
   "source": [
    "---\n",
    "\n",
    "Now connect as Jack and try to read the real data:"
   ]
  },
  {
   "cell_type": "code",
   "execution_count": 48,
   "metadata": {},
   "outputs": [],
   "source": [
    "%sql postgresql://jack@localhost/boutique"
   ]
  },
  {
   "cell_type": "code",
   "execution_count": 49,
   "metadata": {},
   "outputs": [
    {
     "data": {
      "text/html": [
       "<table>\n",
       "    <tr>\n",
       "        <th>id</th>\n",
       "        <th>fk_company_id</th>\n",
       "        <th>contact</th>\n",
       "        <th>phone</th>\n",
       "        <th>job_title</th>\n",
       "    </tr>\n",
       "    <tr>\n",
       "        <td>299</td>\n",
       "        <td>194</td>\n",
       "        <td>Johnny Ryall</td>\n",
       "        <td>597-500-569</td>\n",
       "        <td>CEO</td>\n",
       "    </tr>\n",
       "    <tr>\n",
       "        <td>157</td>\n",
       "        <td>346</td>\n",
       "        <td>George Clinton</td>\n",
       "        <td>131-002-530</td>\n",
       "        <td>Sales manager</td>\n",
       "    </tr>\n",
       "</table>"
      ],
      "text/plain": [
       "[(299, 194, 'Johnny Ryall', '597-500-569', 'CEO'),\n",
       " (157, 346, 'George Clinton', '131-002-530', 'Sales manager')]"
      ]
     },
     "execution_count": 49,
     "metadata": {},
     "output_type": "execute_result"
    }
   ],
   "source": [
    "%%sql\n",
    "SELECT * FROM supplier;"
   ]
  },
  {
   "cell_type": "markdown",
   "metadata": {},
   "source": [
    "## Exercices\n",
    "\n",
    "\n",
    "### E201 - Guess who is the CEO of \"Johnny's Shoe Store\"\n",
    "\n",
    "Masking the supplier name is clearly not enough to provide anonymity.\n",
    "\n",
    "**Connect as Pierre and write a simple SQL query that would reindentify some suppliers based on their job and their company.**\n",
    "\n",
    "Company names and job positions are available in many public datasets. A simple search on Linkedin or Google, would give you the names of the top executives of most companies..  \n",
    "\n",
    "> This is called **Linkability**: the ability to connect multiple records concerning the same data subject.\n",
    "\n",
    "### E202 - Anonymize the companies  \n",
    "\n",
    "We need to anonymize the \"company\" table, too. Even if they don't contain personal information, some fields can be used to **infer** the identity of their employees... \n",
    "\n",
    "**Write 2 masking rules for the company table. The first one will replace the \"name\" field with a fake name. The second will replace the \"vat_id\" with a random sequence of 10 characters** \n",
    "\n",
    "> HINT: Go to the [documentation] and look at the [faking functions] and [random functions]!\n",
    "\n",
    "[documentation]: https://postgresql-anonymizer.readthedocs.io/en/stable/\n",
    "[faking functions]: https://postgresql-anonymizer.readthedocs.io/en/stable/masking_functions#faking\n",
    "[random functions]: https://postgresql-anonymizer.readthedocs.io/en/stable/masking_functions#randomization\n",
    "\n",
    "Connect as Pierre and check that he cannot view the real company info:\n",
    "\n",
    "### E203 - Pseudonymize the company name\n",
    "\n",
    "Because of dynamic masking, the fake values will be different everytime Pierre tries to read the table.\n",
    "\n",
    "Pierre would like to have always the same fake values for a given company. **This is called pseudonymization**: generating consistently the same \n",
    "\n",
    "**Write a new masking rule over the \"vat_id\" field by generating 10 random characters using the md5() function.**\n",
    "\n",
    "**Write a new masking rule over the \"name\" field by using a [pseudonymizing function].**\n",
    "\n",
    "[pseudonymizing function]: https://postgresql-anonymizer.readthedocs.io/en/stable/masking_functions#pseudonymization\n",
    "\n"
   ]
  },
  {
   "cell_type": "markdown",
   "metadata": {},
   "source": [
    "## Solutions\n",
    "\n",
    "### S201"
   ]
  },
  {
   "cell_type": "code",
   "execution_count": 50,
   "metadata": {},
   "outputs": [],
   "source": [
    "%sql postgresql://pierre@localhost/boutique"
   ]
  },
  {
   "cell_type": "code",
   "execution_count": 51,
   "metadata": {},
   "outputs": [
    {
     "data": {
      "text/html": [
       "<table>\n",
       "    <tr>\n",
       "        <th>id</th>\n",
       "        <th>contact</th>\n",
       "        <th>job_title</th>\n",
       "        <th>name</th>\n",
       "    </tr>\n",
       "    <tr>\n",
       "        <td>299</td>\n",
       "        <td>CONFIDENTIAL</td>\n",
       "        <td>CEO</td>\n",
       "        <td>Johnny&#x27;s Shoe Store</td>\n",
       "    </tr>\n",
       "    <tr>\n",
       "        <td>157</td>\n",
       "        <td>CONFIDENTIAL</td>\n",
       "        <td>Sales manager</td>\n",
       "        <td>Capitol Records</td>\n",
       "    </tr>\n",
       "</table>"
      ],
      "text/plain": [
       "[(299, 'CONFIDENTIAL', 'CEO', \"Johnny's Shoe Store\"),\n",
       " (157, 'CONFIDENTIAL', 'Sales manager', 'Capitol Records')]"
      ]
     },
     "execution_count": 51,
     "metadata": {},
     "output_type": "execute_result"
    }
   ],
   "source": [
    "%%sql\n",
    "SELECT s.id, s.contact, s.job_title, c.name  \n",
    "FROM supplier s \n",
    "JOIN company c ON s.fk_company_id = c.id;"
   ]
  },
  {
   "cell_type": "markdown",
   "metadata": {},
   "source": [
    "## S202"
   ]
  },
  {
   "cell_type": "code",
   "execution_count": 52,
   "metadata": {},
   "outputs": [],
   "source": [
    "%sql postgresql://paul@localhost/boutique"
   ]
  },
  {
   "cell_type": "code",
   "execution_count": 53,
   "metadata": {},
   "outputs": [],
   "source": [
    "%%capture\n",
    "%%sql\n",
    "\n",
    "\n",
    "SECURITY LABEL FOR anon ON COLUMN company.name\n",
    "IS 'MASKED WITH FUNCTION anon.fake_company()';\n",
    "\n",
    "SECURITY LABEL FOR anon ON COLUMN company.vat_id\n",
    "IS 'MASKED WITH FUNCTION anon.random_string(10)';"
   ]
  },
  {
   "cell_type": "markdown",
   "metadata": {},
   "source": [
    "Now connect as Pierre and read the table again:"
   ]
  },
  {
   "cell_type": "code",
   "execution_count": 54,
   "metadata": {},
   "outputs": [],
   "source": [
    "%sql postgresql://pierre@localhost/boutique"
   ]
  },
  {
   "cell_type": "code",
   "execution_count": 55,
   "metadata": {},
   "outputs": [
    {
     "data": {
      "text/html": [
       "<table>\n",
       "    <tr>\n",
       "        <th>id</th>\n",
       "        <th>name</th>\n",
       "        <th>vat_id</th>\n",
       "    </tr>\n",
       "    <tr>\n",
       "        <td>952</td>\n",
       "        <td>None</td>\n",
       "        <td>W5CD4J0VTB</td>\n",
       "    </tr>\n",
       "    <tr>\n",
       "        <td>194</td>\n",
       "        <td>None</td>\n",
       "        <td>MN3QVHSWCK</td>\n",
       "    </tr>\n",
       "    <tr>\n",
       "        <td>346</td>\n",
       "        <td>BigWay</td>\n",
       "        <td>RNGZR65QQS</td>\n",
       "    </tr>\n",
       "</table>"
      ],
      "text/plain": [
       "[(952, None, 'W5CD4J0VTB'),\n",
       " (194, None, 'MN3QVHSWCK'),\n",
       " (346, 'BigWay', 'RNGZR65QQS')]"
      ]
     },
     "execution_count": 55,
     "metadata": {},
     "output_type": "execute_result"
    }
   ],
   "source": [
    "%%sql\n",
    "SELECT * FROM company;"
   ]
  },
  {
   "cell_type": "markdown",
   "metadata": {},
   "source": [
    "Pierre will see different \"fake data\" everytime he reads the table:"
   ]
  },
  {
   "cell_type": "code",
   "execution_count": 56,
   "metadata": {},
   "outputs": [
    {
     "data": {
      "text/html": [
       "<table>\n",
       "    <tr>\n",
       "        <th>id</th>\n",
       "        <th>name</th>\n",
       "        <th>vat_id</th>\n",
       "    </tr>\n",
       "    <tr>\n",
       "        <td>952</td>\n",
       "        <td>StockTones.com</td>\n",
       "        <td>SVH1M2MN1Y</td>\n",
       "    </tr>\n",
       "    <tr>\n",
       "        <td>194</td>\n",
       "        <td>None</td>\n",
       "        <td>VEM2W8569N</td>\n",
       "    </tr>\n",
       "    <tr>\n",
       "        <td>346</td>\n",
       "        <td>Pharmex</td>\n",
       "        <td>GD1D7ITQUB</td>\n",
       "    </tr>\n",
       "</table>"
      ],
      "text/plain": [
       "[(952, 'StockTones.com', 'SVH1M2MN1Y'),\n",
       " (194, None, 'VEM2W8569N'),\n",
       " (346, 'Pharmex', 'GD1D7ITQUB')]"
      ]
     },
     "execution_count": 56,
     "metadata": {},
     "output_type": "execute_result"
    }
   ],
   "source": [
    "%%sql\n",
    "SELECT * FROM company;"
   ]
  },
  {
   "cell_type": "markdown",
   "metadata": {},
   "source": [
    "## S203\n"
   ]
  },
  {
   "cell_type": "code",
   "execution_count": 57,
   "metadata": {},
   "outputs": [],
   "source": [
    "%sql postgresql://paul@localhost/boutique"
   ]
  },
  {
   "cell_type": "code",
   "execution_count": 58,
   "metadata": {},
   "outputs": [],
   "source": [
    "%%capture\n",
    "%%sql\n",
    "ALTER FUNCTION anon.pseudo_company SECURITY DEFINER;\n",
    "\n",
    "SECURITY LABEL FOR  anon ON COLUMN company.name\n",
    "IS 'MASKED WITH FUNCTION anon.pseudo_company(id)';"
   ]
  },
  {
   "cell_type": "markdown",
   "metadata": {},
   "source": [
    "Connect as Pierre and read the table multiple times:"
   ]
  },
  {
   "cell_type": "code",
   "execution_count": 59,
   "metadata": {},
   "outputs": [],
   "source": [
    "%sql postgresql://pierre@localhost/boutique"
   ]
  },
  {
   "cell_type": "code",
   "execution_count": 60,
   "metadata": {},
   "outputs": [
    {
     "data": {
      "text/html": [
       "<table>\n",
       "    <tr>\n",
       "        <th>id</th>\n",
       "        <th>name</th>\n",
       "        <th>vat_id</th>\n",
       "    </tr>\n",
       "    <tr>\n",
       "        <td>952</td>\n",
       "        <td>Flying Edge</td>\n",
       "        <td>C22OVF1N2S</td>\n",
       "    </tr>\n",
       "    <tr>\n",
       "        <td>194</td>\n",
       "        <td>iNORM.COM</td>\n",
       "        <td>8732U2XR2B</td>\n",
       "    </tr>\n",
       "    <tr>\n",
       "        <td>346</td>\n",
       "        <td>CellRay</td>\n",
       "        <td>18EUBC2USN</td>\n",
       "    </tr>\n",
       "</table>"
      ],
      "text/plain": [
       "[(952, 'Flying Edge', 'C22OVF1N2S'),\n",
       " (194, 'iNORM.COM', '8732U2XR2B'),\n",
       " (346, 'CellRay', '18EUBC2USN')]"
      ]
     },
     "execution_count": 60,
     "metadata": {},
     "output_type": "execute_result"
    }
   ],
   "source": [
    "%%sql\n",
    "SELECT * FROM company;"
   ]
  },
  {
   "cell_type": "code",
   "execution_count": 61,
   "metadata": {},
   "outputs": [
    {
     "data": {
      "text/html": [
       "<table>\n",
       "    <tr>\n",
       "        <th>id</th>\n",
       "        <th>name</th>\n",
       "        <th>vat_id</th>\n",
       "    </tr>\n",
       "    <tr>\n",
       "        <td>952</td>\n",
       "        <td>Flying Edge</td>\n",
       "        <td>VUGP81U1FN</td>\n",
       "    </tr>\n",
       "    <tr>\n",
       "        <td>194</td>\n",
       "        <td>iNORM.COM</td>\n",
       "        <td>JELD655UNY</td>\n",
       "    </tr>\n",
       "    <tr>\n",
       "        <td>346</td>\n",
       "        <td>CellRay</td>\n",
       "        <td>VGXZ0Y1SJK</td>\n",
       "    </tr>\n",
       "</table>"
      ],
      "text/plain": [
       "[(952, 'Flying Edge', 'VUGP81U1FN'),\n",
       " (194, 'iNORM.COM', 'JELD655UNY'),\n",
       " (346, 'CellRay', 'VGXZ0Y1SJK')]"
      ]
     },
     "execution_count": 61,
     "metadata": {},
     "output_type": "execute_result"
    }
   ],
   "source": [
    "%%sql\n",
    "SELECT * FROM company;"
   ]
  },
  {
   "cell_type": "markdown",
   "metadata": {},
   "source": [
    "Now the fake company name is always the same.\n"
   ]
  }
 ],
 "metadata": {
  "celltoolbar": "Tags",
  "kernelspec": {
   "display_name": "Python 3",
   "language": "python",
   "name": "python3"
  },
  "language_info": {
   "codemirror_mode": {
    "name": "ipython",
    "version": 3
   },
   "file_extension": ".py",
   "mimetype": "text/x-python",
   "name": "python",
   "nbconvert_exporter": "python",
   "pygments_lexer": "ipython3",
   "version": "3.8.10"
  }
 },
 "nbformat": 4,
 "nbformat_minor": 4
}
